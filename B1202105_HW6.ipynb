{
  "nbformat": 4,
  "nbformat_minor": 0,
  "metadata": {
    "colab": {
      "provenance": []
    },
    "kernelspec": {
      "name": "python3",
      "display_name": "Python 3"
    },
    "language_info": {
      "name": "python"
    }
  },
  "cells": [
    {
      "cell_type": "code",
      "execution_count": 39,
      "metadata": {
        "colab": {
          "base_uri": "https://localhost:8080/"
        },
        "id": "wEdGDxBx57Ib",
        "outputId": "3882ef3c-b691-4db9-fd88-1dfe7f7126bd"
      },
      "outputs": [
        {
          "output_type": "stream",
          "name": "stdout",
          "text": [
            "聖誕樹層數:8\n",
            "       *\n",
            "      ***\n",
            "     *****\n",
            "    *******\n",
            "   *********\n",
            "  ***********\n",
            " *************\n",
            "***************\n",
            "      ***\n",
            "      ***\n",
            "      ***\n",
            "      ***\n",
            "      ***\n"
          ]
        }
      ],
      "source": [
        "def tree(h):\n",
        "  for a in range(0,h):\n",
        "    star=1+a*2\n",
        "    space=h-1-a\n",
        "    for b in range(space):\n",
        "      print(\" \",end=\"\")\n",
        "    for c in range(star):\n",
        "      print(f\"*\",end=\"\")\n",
        "    print(end=\"\\n\")\n",
        "  for d in range(1,6):\n",
        "    for e in range(h-2):\n",
        "      print(\" \",end=\"\")\n",
        "    for f in range(3):\n",
        "      print(\"*\",end=\"\")\n",
        "    print(end=\"\\n\")\n",
        "\n",
        "h=int(input(\"聖誕樹層數:\"))\n",
        "tree(h)\n",
        ""
      ]
    },
    {
      "cell_type": "code",
      "source": [
        "def BMI(h, w):\n",
        "  h/=100\n",
        "  bmi= w/(h**2)\n",
        "  return bmi\n",
        "try:\n",
        "   h = float(input(\"身高(公分):\"))\n",
        "   w = float(input(\"體重:\"))\n",
        "   ans = BMI(h,w)\n",
        "   print(\"BMI:\", ans)\n",
        "\n",
        "   if ans<18.5:\n",
        "     print(\"體位:過輕\")\n",
        "   elif ans<24:\n",
        "     print(\"體位:適中\")\n",
        "   elif ans<27:\n",
        "     print(\"體位:過重\")\n",
        "   else:\n",
        "     print(\"體位:肥胖\")\n",
        "except:\n",
        "  print(\"輸入內容錯誤\")"
      ],
      "metadata": {
        "colab": {
          "base_uri": "https://localhost:8080/"
        },
        "id": "-UBA8IjI8hNs",
        "outputId": "f7a4b1f4-49a7-4deb-8858-260493c1a06b"
      },
      "execution_count": 38,
      "outputs": [
        {
          "output_type": "stream",
          "name": "stdout",
          "text": [
            "身高(公分):170\n",
            "體重:y\n",
            "輸入內容錯誤\n"
          ]
        }
      ]
    }
  ]
}